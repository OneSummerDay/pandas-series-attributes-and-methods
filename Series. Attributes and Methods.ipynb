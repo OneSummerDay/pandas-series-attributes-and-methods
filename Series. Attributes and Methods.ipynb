{
 "cells": [
  {
   "cell_type": "code",
   "execution_count": 1,
   "id": "2e9f3610",
   "metadata": {},
   "outputs": [],
   "source": [
    "import pandas as pd"
   ]
  },
  {
   "cell_type": "code",
   "execution_count": 4,
   "id": "9096f43a",
   "metadata": {},
   "outputs": [
    {
     "data": {
      "text/plain": [
       "Dnipro    1000000.0\n",
       "Kyiv      3000000.0\n",
       "Paris     2300000.0\n",
       "Milan           NaN\n",
       "dtype: float64"
      ]
     },
     "execution_count": 4,
     "metadata": {},
     "output_type": "execute_result"
    }
   ],
   "source": [
    "cities = pd.Series({'Dnipro': 1000000, 'Kyiv': 3000000, 'Paris': 2300000, 'Berlin': 3800000}, index=['Dnipro', 'Kyiv', 'Paris', 'Milan']) \n",
    "cities"
   ]
  },
  {
   "cell_type": "code",
   "execution_count": 5,
   "id": "fb3a3fa3",
   "metadata": {},
   "outputs": [
    {
     "data": {
      "text/plain": [
       "(4,)"
      ]
     },
     "execution_count": 5,
     "metadata": {},
     "output_type": "execute_result"
    }
   ],
   "source": [
    "cities.shape"
   ]
  },
  {
   "cell_type": "code",
   "execution_count": 6,
   "id": "f1d4428a",
   "metadata": {},
   "outputs": [
    {
     "data": {
      "text/plain": [
       "4"
      ]
     },
     "execution_count": 6,
     "metadata": {},
     "output_type": "execute_result"
    }
   ],
   "source": [
    "cities.size"
   ]
  },
  {
   "cell_type": "code",
   "execution_count": 7,
   "id": "ebb652f7",
   "metadata": {},
   "outputs": [
    {
     "data": {
      "text/plain": [
       "3"
      ]
     },
     "execution_count": 7,
     "metadata": {},
     "output_type": "execute_result"
    }
   ],
   "source": [
    "cities.count()"
   ]
  },
  {
   "cell_type": "code",
   "execution_count": 8,
   "id": "42bdc78e",
   "metadata": {},
   "outputs": [],
   "source": [
    "cities2 = cities"
   ]
  },
  {
   "cell_type": "code",
   "execution_count": 9,
   "id": "0f1ba595",
   "metadata": {},
   "outputs": [],
   "source": [
    "cities2.at['Milan'] = 3200000"
   ]
  },
  {
   "cell_type": "code",
   "execution_count": 10,
   "id": "b9f7f632",
   "metadata": {},
   "outputs": [
    {
     "data": {
      "text/plain": [
       "Dnipro    1000000.0\n",
       "Kyiv      3000000.0\n",
       "Paris     2300000.0\n",
       "Milan     3200000.0\n",
       "dtype: float64"
      ]
     },
     "execution_count": 10,
     "metadata": {},
     "output_type": "execute_result"
    }
   ],
   "source": [
    "cities"
   ]
  },
  {
   "cell_type": "code",
   "execution_count": 11,
   "id": "a02fa59a",
   "metadata": {},
   "outputs": [
    {
     "data": {
      "text/plain": [
       "Dnipro    1000000.0\n",
       "Kyiv      3000000.0\n",
       "Paris     2300000.0\n",
       "Milan     3200000.0\n",
       "dtype: float64"
      ]
     },
     "execution_count": 11,
     "metadata": {},
     "output_type": "execute_result"
    }
   ],
   "source": [
    "cities2"
   ]
  },
  {
   "cell_type": "code",
   "execution_count": 12,
   "id": "e564066e",
   "metadata": {},
   "outputs": [],
   "source": [
    "cities3 = cities2.copy()"
   ]
  },
  {
   "cell_type": "code",
   "execution_count": 13,
   "id": "03b5d147",
   "metadata": {},
   "outputs": [],
   "source": [
    "cities3.at['London'] = 9000000"
   ]
  },
  {
   "cell_type": "code",
   "execution_count": 14,
   "id": "2da766a1",
   "metadata": {},
   "outputs": [
    {
     "data": {
      "text/plain": [
       "Dnipro    1000000.0\n",
       "Kyiv      3000000.0\n",
       "Paris     2300000.0\n",
       "Milan     3200000.0\n",
       "London    9000000.0\n",
       "dtype: float64"
      ]
     },
     "execution_count": 14,
     "metadata": {},
     "output_type": "execute_result"
    }
   ],
   "source": [
    "cities3"
   ]
  },
  {
   "cell_type": "code",
   "execution_count": 15,
   "id": "95785097",
   "metadata": {},
   "outputs": [
    {
     "data": {
      "text/plain": [
       "Dnipro    1000000.0\n",
       "Kyiv      3000000.0\n",
       "Paris     2300000.0\n",
       "Milan     3200000.0\n",
       "dtype: float64"
      ]
     },
     "execution_count": 15,
     "metadata": {},
     "output_type": "execute_result"
    }
   ],
   "source": [
    "cities2"
   ]
  },
  {
   "cell_type": "code",
   "execution_count": null,
   "id": "fc845cbf",
   "metadata": {},
   "outputs": [],
   "source": []
  }
 ],
 "metadata": {
  "kernelspec": {
   "display_name": "Python 3 (ipykernel)",
   "language": "python",
   "name": "python3"
  },
  "language_info": {
   "codemirror_mode": {
    "name": "ipython",
    "version": 3
   },
   "file_extension": ".py",
   "mimetype": "text/x-python",
   "name": "python",
   "nbconvert_exporter": "python",
   "pygments_lexer": "ipython3",
   "version": "3.11.4"
  }
 },
 "nbformat": 4,
 "nbformat_minor": 5
}
